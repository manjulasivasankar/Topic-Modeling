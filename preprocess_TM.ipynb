{
 "cells": [
  {
   "cell_type": "code",
   "execution_count": 6,
   "metadata": {},
   "outputs": [],
   "source": [
    "import pandas as pd\n",
    "fp = \"F:datasets\\pub2017.csv\"\n",
    "df = pd.read_csv(fp, header = None)"
   ]
  },
  {
   "cell_type": "code",
   "execution_count": 7,
   "metadata": {
    "scrolled": true
   },
   "outputs": [
    {
     "data": {
      "text/html": [
       "<div>\n",
       "<style scoped>\n",
       "    .dataframe tbody tr th:only-of-type {\n",
       "        vertical-align: middle;\n",
       "    }\n",
       "\n",
       "    .dataframe tbody tr th {\n",
       "        vertical-align: top;\n",
       "    }\n",
       "\n",
       "    .dataframe thead th {\n",
       "        text-align: right;\n",
       "    }\n",
       "</style>\n",
       "<table border=\"1\" class=\"dataframe\">\n",
       "  <thead>\n",
       "    <tr style=\"text-align: right;\">\n",
       "      <th></th>\n",
       "      <th>0</th>\n",
       "      <th>1</th>\n",
       "      <th>2</th>\n",
       "      <th>3</th>\n",
       "      <th>4</th>\n",
       "    </tr>\n",
       "  </thead>\n",
       "  <tbody>\n",
       "    <tr>\n",
       "      <th>0</th>\n",
       "      <td>authors</td>\n",
       "      <td>title</td>\n",
       "      <td>journals</td>\n",
       "      <td>abstract</td>\n",
       "      <td>publisher</td>\n",
       "    </tr>\n",
       "    <tr>\n",
       "      <th>1</th>\n",
       "      <td>Madurai Meenachi, N;Sai Baba, M;</td>\n",
       "      <td>Matrix rank based ontology matching: An extens...</td>\n",
       "      <td>International Journal of Nuclear Knowledge Man...</td>\n",
       "      <td>In this article, a string-based algorithm and ...</td>\n",
       "      <td>Inderscience</td>\n",
       "    </tr>\n",
       "    <tr>\n",
       "      <th>2</th>\n",
       "      <td>Rayer francis, A;Bhargav, PB;Ahmed, N;Bhattach...</td>\n",
       "      <td>Sputtered AZO Thin Films for TCO and Back Refl...</td>\n",
       "      <td>Silicon</td>\n",
       "      <td>We report the properties of Al doped ZnO (AZO)...</td>\n",
       "      <td>Springer Link</td>\n",
       "    </tr>\n",
       "    <tr>\n",
       "      <th>3</th>\n",
       "      <td>Raghu, Y;Ravisankar, R;Chandrasekaran, A;Vijay...</td>\n",
       "      <td>Assessment of natural radioactivity and radiol...</td>\n",
       "      <td>Journal of Taibah University for Science</td>\n",
       "      <td>One-hundred-fifty-one samples of six types of ...</td>\n",
       "      <td>Elsevier</td>\n",
       "    </tr>\n",
       "    <tr>\n",
       "      <th>4</th>\n",
       "      <td>Venkitasamy V.</td>\n",
       "      <td>Accelerated rusting of reinforcing bars: The r...</td>\n",
       "      <td>ACI Materials Journal</td>\n",
       "      <td>[No abstract available]</td>\n",
       "      <td>ACS</td>\n",
       "    </tr>\n",
       "  </tbody>\n",
       "</table>\n",
       "</div>"
      ],
      "text/plain": [
       "                                                   0  \\\n",
       "0                                            authors   \n",
       "1                   Madurai Meenachi, N;Sai Baba, M;   \n",
       "2  Rayer francis, A;Bhargav, PB;Ahmed, N;Bhattach...   \n",
       "3  Raghu, Y;Ravisankar, R;Chandrasekaran, A;Vijay...   \n",
       "4                                     Venkitasamy V.   \n",
       "\n",
       "                                                   1  \\\n",
       "0                                              title   \n",
       "1  Matrix rank based ontology matching: An extens...   \n",
       "2  Sputtered AZO Thin Films for TCO and Back Refl...   \n",
       "3  Assessment of natural radioactivity and radiol...   \n",
       "4  Accelerated rusting of reinforcing bars: The r...   \n",
       "\n",
       "                                                   2  \\\n",
       "0                                           journals   \n",
       "1  International Journal of Nuclear Knowledge Man...   \n",
       "2                                            Silicon   \n",
       "3           Journal of Taibah University for Science   \n",
       "4                              ACI Materials Journal   \n",
       "\n",
       "                                                   3              4  \n",
       "0                                           abstract      publisher  \n",
       "1  In this article, a string-based algorithm and ...   Inderscience  \n",
       "2  We report the properties of Al doped ZnO (AZO)...  Springer Link  \n",
       "3  One-hundred-fifty-one samples of six types of ...       Elsevier  \n",
       "4                            [No abstract available]            ACS  "
      ]
     },
     "execution_count": 7,
     "metadata": {},
     "output_type": "execute_result"
    }
   ],
   "source": [
    "df.head()"
   ]
  },
  {
   "cell_type": "code",
   "execution_count": 11,
   "metadata": {},
   "outputs": [
    {
     "data": {
      "text/plain": [
       "(426, 5)"
      ]
     },
     "execution_count": 11,
     "metadata": {},
     "output_type": "execute_result"
    }
   ],
   "source": [
    "df.shape"
   ]
  },
  {
   "cell_type": "code",
   "execution_count": 12,
   "metadata": {},
   "outputs": [
    {
     "name": "stderr",
     "output_type": "stream",
     "text": [
      "C:\\Users\\ADMIN\\Anaconda3\\lib\\site-packages\\ipykernel_launcher.py:2: SettingWithCopyWarning: \n",
      "A value is trying to be set on a copy of a slice from a DataFrame.\n",
      "Try using .loc[row_indexer,col_indexer] = value instead\n",
      "\n",
      "See the caveats in the documentation: http://pandas.pydata.org/pandas-docs/stable/indexing.html#indexing-view-versus-copy\n",
      "  \n",
      "C:\\Users\\ADMIN\\Anaconda3\\lib\\site-packages\\ipykernel_launcher.py:6: FutureWarning: The signature of `Series.to_csv` was aligned to that of `DataFrame.to_csv`, and argument 'header' will change its default value from False to True: please pass an explicit value to suppress this warning.\n",
      "  \n"
     ]
    }
   ],
   "source": [
    "df_preprocessed = df[[1,3]]\n",
    "df_preprocessed[\"doc\"] = df[[1,3]].apply(lambda x: ''.join(x), axis=1)\n",
    "df_preprocessed = df_preprocessed[\"doc\"]\n",
    "\n",
    "fp_out = \"C:/Users/ADMIN/Desktop/pubnew.csv\"\n",
    "df_preprocessed.to_csv(fp_out, index = False)"
   ]
  },
  {
   "cell_type": "code",
   "execution_count": null,
   "metadata": {},
   "outputs": [],
   "source": []
  }
 ],
 "metadata": {
  "kernelspec": {
   "display_name": "Python 3",
   "language": "python",
   "name": "python3"
  },
  "language_info": {
   "codemirror_mode": {
    "name": "ipython",
    "version": 3
   },
   "file_extension": ".py",
   "mimetype": "text/x-python",
   "name": "python",
   "nbconvert_exporter": "python",
   "pygments_lexer": "ipython3",
   "version": "3.6.8"
  }
 },
 "nbformat": 4,
 "nbformat_minor": 2
}
