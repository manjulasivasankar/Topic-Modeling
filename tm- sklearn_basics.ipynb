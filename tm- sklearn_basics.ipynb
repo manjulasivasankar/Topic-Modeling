{
 "cells": [
  {
   "cell_type": "code",
   "execution_count": 1,
   "metadata": {},
   "outputs": [
    {
     "name": "stderr",
     "output_type": "stream",
     "text": [
      "C:\\Users\\ADMIN\\Anaconda3\\lib\\site-packages\\ipykernel_launcher.py:8: FutureWarning: Method .as_matrix will be removed in a future version. Use .values instead.\n",
      "  \n"
     ]
    },
    {
     "name": "stdout",
     "output_type": "stream",
     "text": [
      "Topic 0:\n",
      "derived total analogy agent developed components deviations drive resource equality\n",
      "Topic 1:\n",
      "test process exist baba distance programme application developed reactor agent\n",
      "Topic 2:\n",
      "matching formats exist generator knowledge components control reactor web test\n",
      "Topic 3:\n",
      "meenachi owl fast ontology include demonstrate process study resource generator\n",
      "Topic 4:\n",
      "drive analysis knowledge derived formats breeder domain rod mechanism rdf\n",
      "Topic 5:\n",
      "total language string madurai matchingin sai drive application exclude domain\n",
      "Topic 6:\n",
      "drive generator programme taken steam analysis algorithm web total application\n",
      "Topic 7:\n",
      "web components distance programme analogy used fast knowledge decide deviations\n",
      "Topic 8:\n",
      "based reactor analogy algorithm developed fast control type equality distance\n",
      "Topic 9:\n",
      "meenachi madurai breeder test agent baba distance process steam formats\n",
      "Topic 10:\n",
      "useful components process agent evaluate test domain deviations string exclude\n",
      "Topic 11:\n",
      "representing analogy analysis deviations derived sai number madurai case string\n",
      "Topic 12:\n",
      "matching ontology algorithm based rank matrix total derived string number\n",
      "Topic 13:\n",
      "result developed exclude madurai taken distance components programme string matrices\n",
      "Topic 14:\n",
      "meenachi rod domain web based process control deviations equality extract\n",
      "Topic 15:\n",
      "article demonstrate framework exist baba number meenachi evaluate language fast\n",
      "Topic 16:\n",
      "process useful fast exclude matrices baba extension reactor matching rod\n",
      "Topic 17:\n",
      "steam analogy agent meenachi owl equality total domain based analysis\n",
      "Topic 18:\n",
      "rank application extract useful demonstrate decide domain drive study rod\n",
      "Topic 19:\n",
      "case test exclude control distance fbtr rod language number exist\n"
     ]
    },
    {
     "name": "stderr",
     "output_type": "stream",
     "text": [
      "C:\\Users\\ADMIN\\Anaconda3\\lib\\site-packages\\sklearn\\decomposition\\online_lda.py:314: DeprecationWarning: n_topics has been renamed to n_components in version 0.19 and will be removed in 0.21\n",
      "  DeprecationWarning)\n"
     ]
    }
   ],
   "source": [
    "import pandas as pd\n",
    "import os\n",
    "import sys\n",
    "os.chdir(\"F:\\\\datasets\")\n",
    "fp = \"pp_pub2017.csv\"\n",
    "documents = pd.read_csv(fp, sep = \";\")\n",
    "\n",
    "csv_matrix = documents.as_matrix()\n",
    "\n",
    "from sklearn.feature_extraction.text import TfidfVectorizer, CountVectorizer\n",
    "\n",
    "no_features = 1000\n",
    "\n",
    "documents.values\n",
    "\n",
    "# NMF is able to use tf-idf\n",
    "tfidf_vectorizer = TfidfVectorizer(max_df=2, min_df=0.95, max_features=no_features, stop_words='english')\n",
    "tfidf = tfidf_vectorizer.fit_transform(documents)\n",
    "tfidf_feature_names = tfidf_vectorizer.get_feature_names()\n",
    "\n",
    "# LDA can only use raw term counts for LDA because it is a probabilistic graphical model\n",
    "tf_vectorizer = CountVectorizer(max_df=2, min_df=0.95, max_features=no_features, stop_words='english')\n",
    "tf = tf_vectorizer.fit_transform(documents)\n",
    "tf_feature_names = tf_vectorizer.get_feature_names()\n",
    "from sklearn.decomposition import NMF, LatentDirichletAllocation\n",
    "\n",
    "no_topics = 20\n",
    "\n",
    "\n",
    "# Run LDA\n",
    "lda = LatentDirichletAllocation(n_topics=no_topics, max_iter=5, learning_method='online', learning_offset=50.,random_state=0).fit(tf)\n",
    "def display_topics(model, feature_names, no_top_words):\n",
    "    for topic_idx, topic in enumerate(model.components_):\n",
    "        print (\"Topic %d:\" % (topic_idx))\n",
    "        print (\" \".join([feature_names[i] for i in topic.argsort()[:-no_top_words - 1:-1]]))\n",
    "       \n",
    "\n",
    "no_top_words = 10\n",
    "\n",
    "display_topics(lda, tf_feature_names, no_top_words)\n",
    "\n",
    "#lda.getparams()\n",
    "\n",
    "\n"
   ]
  },
  {
   "cell_type": "code",
   "execution_count": null,
   "metadata": {},
   "outputs": [],
   "source": []
  },
  {
   "cell_type": "code",
   "execution_count": null,
   "metadata": {},
   "outputs": [],
   "source": []
  },
  {
   "cell_type": "code",
   "execution_count": null,
   "metadata": {},
   "outputs": [],
   "source": []
  }
 ],
 "metadata": {
  "kernelspec": {
   "display_name": "Python 3",
   "language": "python",
   "name": "python3"
  },
  "language_info": {
   "codemirror_mode": {
    "name": "ipython",
    "version": 3
   },
   "file_extension": ".py",
   "mimetype": "text/x-python",
   "name": "python",
   "nbconvert_exporter": "python",
   "pygments_lexer": "ipython3",
   "version": "3.6.8"
  }
 },
 "nbformat": 4,
 "nbformat_minor": 2
}
